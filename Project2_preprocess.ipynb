{
  "nbformat": 4,
  "nbformat_minor": 0,
  "metadata": {
    "colab": {
      "name": "Project2_preprocess.ipynb",
      "provenance": [],
      "collapsed_sections": []
    },
    "kernelspec": {
      "name": "python3",
      "display_name": "Python 3"
    },
    "language_info": {
      "name": "python"
    }
  },
  "cells": [
    {
      "cell_type": "code",
      "metadata": {
        "id": "UUbUi45c3n_U"
      },
      "source": [
        "import pandas as pd\n",
        "import matplotlib.pyplot as plt\n",
        "import numpy as np\n",
        "import string as str"
      ],
      "execution_count": null,
      "outputs": []
    },
    {
      "cell_type": "code",
      "metadata": {
        "id": "jhLL4S-l3vc6"
      },
      "source": [
        "dataset_seasonal = pd.read_excel('Seasonal Table.xlsx')\n",
        "dataset_vehicle = pd.read_excel('vehicle_Density_2.xlsx')"
      ],
      "execution_count": null,
      "outputs": []
    },
    {
      "cell_type": "code",
      "metadata": {
        "colab": {
          "base_uri": "https://localhost:8080/"
        },
        "id": "A4vbGGAm5EHg",
        "outputId": "e3e82c2a-d21c-469f-d42e-2a50bedd54e8"
      },
      "source": [
        "dataset_vehicle.columns"
      ],
      "execution_count": null,
      "outputs": [
        {
          "output_type": "execute_result",
          "data": {
            "text/plain": [
              "Index(['Month of Date', 'State', 'District', 'Subsegment', 'Is Bs6',\n",
              "       'Latitude', 'Longitude', 'Vehicle_density'],\n",
              "      dtype='object')"
            ]
          },
          "metadata": {},
          "execution_count": 3
        }
      ]
    },
    {
      "cell_type": "code",
      "metadata": {
        "colab": {
          "base_uri": "https://localhost:8080/"
        },
        "id": "PczJTmmC5aiQ",
        "outputId": "4152c1a0-f77c-47f7-92b3-3be3f14af555"
      },
      "source": [
        "dataset_seasonal.columns"
      ],
      "execution_count": null,
      "outputs": [
        {
          "output_type": "execute_result",
          "data": {
            "text/plain": [
              "Index(['State', 'Product', 'Districts', 'Month', 'Season'], dtype='object')"
            ]
          },
          "metadata": {},
          "execution_count": 4
        }
      ]
    },
    {
      "cell_type": "code",
      "metadata": {
        "id": "03GlVlnL5ekl"
      },
      "source": [
        "dataset_vehicle = dataset_vehicle.rename(columns = {'District': 'Districts'}, inplace = False)"
      ],
      "execution_count": null,
      "outputs": []
    },
    {
      "cell_type": "code",
      "metadata": {
        "colab": {
          "base_uri": "https://localhost:8080/"
        },
        "id": "HZ-6XFTD50l4",
        "outputId": "d04fdcdc-43f1-494d-91e2-fe83179a5f97"
      },
      "source": [
        "dataset_vehicle.isna().sum()"
      ],
      "execution_count": null,
      "outputs": [
        {
          "output_type": "execute_result",
          "data": {
            "text/plain": [
              "Month of Date         0\n",
              "State                 0\n",
              "Districts             0\n",
              "Subsegment            0\n",
              "Is Bs6                0\n",
              "Latitude           1237\n",
              "Longitude          1237\n",
              "Vehicle_density       0\n",
              "dtype: int64"
            ]
          },
          "metadata": {},
          "execution_count": 6
        }
      ]
    },
    {
      "cell_type": "code",
      "metadata": {
        "colab": {
          "base_uri": "https://localhost:8080/"
        },
        "id": "OpqrxoqT5z-B",
        "outputId": "e2d25dc8-56fd-4dcc-ec2b-5db6f1fb53fb"
      },
      "source": [
        "dataset_seasonal.isna().sum()"
      ],
      "execution_count": null,
      "outputs": [
        {
          "output_type": "execute_result",
          "data": {
            "text/plain": [
              "State        0\n",
              "Product      0\n",
              "Districts    0\n",
              "Month        0\n",
              "Season       0\n",
              "dtype: int64"
            ]
          },
          "metadata": {},
          "execution_count": 7
        }
      ]
    },
    {
      "cell_type": "code",
      "metadata": {
        "id": "uf3rHNls53Rc"
      },
      "source": [
        "\n",
        "dataset_vehicle = dataset_vehicle[~(dataset_vehicle['Latitude'].isna() & dataset_vehicle['Longitude'].isna())]"
      ],
      "execution_count": null,
      "outputs": []
    },
    {
      "cell_type": "code",
      "metadata": {
        "colab": {
          "base_uri": "https://localhost:8080/"
        },
        "id": "teWjv1T55kJo",
        "outputId": "13fd3bbb-c8a5-471c-c4ee-981ffdee7bb9"
      },
      "source": [
        "print(dataset_vehicle['Month of Date'])"
      ],
      "execution_count": null,
      "outputs": [
        {
          "output_type": "stream",
          "name": "stdout",
          "text": [
            "0       2021-01-01\n",
            "1       2021-01-01\n",
            "2       2021-01-01\n",
            "3       2021-01-01\n",
            "4       2021-01-01\n",
            "           ...    \n",
            "47963   2021-08-01\n",
            "47964   2021-08-01\n",
            "47965   2021-08-01\n",
            "47966   2021-08-01\n",
            "47967   2021-08-01\n",
            "Name: Month of Date, Length: 46731, dtype: datetime64[ns]\n"
          ]
        }
      ]
    },
    {
      "cell_type": "code",
      "metadata": {
        "id": "-UJs3DPu6I4W"
      },
      "source": [
        "dataset_vehicle['Month'] = pd.DatetimeIndex(dataset_vehicle['Month of Date']).month"
      ],
      "execution_count": null,
      "outputs": []
    },
    {
      "cell_type": "code",
      "metadata": {
        "colab": {
          "base_uri": "https://localhost:8080/"
        },
        "id": "aDExEps-6mdr",
        "outputId": "2cfa9f37-8d90-4291-ce57-d8dc8efce515"
      },
      "source": [
        "print(dataset_vehicle['Month'].unique())"
      ],
      "execution_count": null,
      "outputs": [
        {
          "output_type": "stream",
          "name": "stdout",
          "text": [
            "[1 2 3 4 5 6 7 8]\n"
          ]
        }
      ]
    },
    {
      "cell_type": "code",
      "metadata": {
        "id": "VGxFa_CA8D0O"
      },
      "source": [
        "dataset_vehicle['Month'].mask(dataset_vehicle['Month']==1, 'Jan', inplace=True)\n",
        "dataset_vehicle['Month'].mask(dataset_vehicle['Month']==2, 'Feb', inplace=True)\n",
        "dataset_vehicle['Month'].mask(dataset_vehicle['Month']==3, 'Mar', inplace=True)\n",
        "dataset_vehicle['Month'].mask(dataset_vehicle['Month']==4, 'Apr', inplace=True)\n",
        "dataset_vehicle['Month'].mask(dataset_vehicle['Month']==5, 'May', inplace=True)\n",
        "dataset_vehicle['Month'].mask(dataset_vehicle['Month']==6, 'Jun', inplace=True)\n",
        "dataset_vehicle['Month'].mask(dataset_vehicle['Month']==7, 'Jul', inplace=True)\n",
        "dataset_vehicle['Month'].mask(dataset_vehicle['Month']==8, 'Aug', inplace=True)"
      ],
      "execution_count": null,
      "outputs": []
    },
    {
      "cell_type": "code",
      "metadata": {
        "colab": {
          "base_uri": "https://localhost:8080/"
        },
        "id": "1c9qbTpR7LHT",
        "outputId": "871363eb-4d07-4c12-b948-29be8a358983"
      },
      "source": [
        "dataset_vehicle.Month.unique()"
      ],
      "execution_count": null,
      "outputs": [
        {
          "output_type": "execute_result",
          "data": {
            "text/plain": [
              "array(['Jan', 'Feb', 'Mar', 'Apr', 'May', 'Jun', 'Jul', 'Aug'],\n",
              "      dtype=object)"
            ]
          },
          "metadata": {},
          "execution_count": 13
        }
      ]
    },
    {
      "cell_type": "code",
      "metadata": {
        "colab": {
          "base_uri": "https://localhost:8080/"
        },
        "id": "e3RM_CSb6Np9",
        "outputId": "1d98fd7a-baf0-4de2-e613-386dccd11d42"
      },
      "source": [
        "print(dataset_seasonal['Month'])"
      ],
      "execution_count": null,
      "outputs": [
        {
          "output_type": "stream",
          "name": "stdout",
          "text": [
            "0      Jan\n",
            "1      Jan\n",
            "2      Jan\n",
            "3      Jan\n",
            "4      Jan\n",
            "      ... \n",
            "987    Aug\n",
            "988    Aug\n",
            "989    Aug\n",
            "990    Aug\n",
            "991    Aug\n",
            "Name: Month, Length: 992, dtype: object\n"
          ]
        }
      ]
    },
    {
      "cell_type": "code",
      "metadata": {
        "id": "LPFOl3s89M2L"
      },
      "source": [
        "dataset_vehicle['Districts'] = dataset_vehicle['Districts'].str.replace(\" \",\"\")\n"
      ],
      "execution_count": null,
      "outputs": []
    },
    {
      "cell_type": "code",
      "metadata": {
        "id": "sMQomZoB9bJs"
      },
      "source": [
        "dataset_vehicle['Districts'] = dataset_vehicle['Districts'].str.lower()"
      ],
      "execution_count": null,
      "outputs": []
    },
    {
      "cell_type": "code",
      "metadata": {
        "colab": {
          "base_uri": "https://localhost:8080/"
        },
        "id": "Hffwo8LC9jOg",
        "outputId": "854ba7bb-f27d-4cc4-a1c9-dbafc4c87cfe"
      },
      "source": [
        "dataset_vehicle.Districts.unique()"
      ],
      "execution_count": null,
      "outputs": [
        {
          "output_type": "execute_result",
          "data": {
            "text/plain": [
              "array(['ananthapur', 'chittoor', 'cuddapah', 'eastgodavari', 'guntur',\n",
              "       'krishna', 'kurnool', 'nellore', 'prakasam', 'srikakulam',\n",
              "       'visakhapatnam', 'vizianagaram', 'westgodavari', 'barpeta',\n",
              "       'bongaigaon', 'cachar', 'darrang', 'dhemaji', 'dhubri',\n",
              "       'dibrugarh', 'goalpara', 'golaghat', 'hailakandi', 'jorhat',\n",
              "       'kamrup', 'karbianglong', 'karimganj', 'kokrajhar', 'lakhimpur',\n",
              "       'marigaon', 'nagaon', 'nalbari', 'northcacharhills', 'sibsagar',\n",
              "       'sonitpur', 'tinsukia', 'araria', 'arwal', 'aurangabad', 'banka',\n",
              "       'begusarai', 'bhagalpur', 'bhojpur', 'buxar', 'darbhanga',\n",
              "       'eastchamparan', 'gaya', 'gopalganj', 'jamui', 'jehanabad',\n",
              "       'kaimur', 'katihar', 'khagaria', 'kishanganj', 'lakhisarai',\n",
              "       'madhepura', 'madhubani', 'munger', 'muzaffarpur', 'nalanda',\n",
              "       'nawada', 'patna', 'purnia', 'rohtas', 'saharsa', 'samastipur',\n",
              "       'saran', 'sheikhpura', 'sheohar', 'sitamarhi', 'siwan', 'supaul',\n",
              "       'vaishali', 'westchamparan', 'chandigarh', 'bastar', 'bijapur',\n",
              "       'bilaspur', 'dantewada', 'dhamtari', 'janjgir-champa', 'jashpur',\n",
              "       'kanker', 'kawardha', 'korba', 'koriya', 'mahasamund',\n",
              "       'narayanpur', 'raigarh', 'raipur', 'rajnandgaon', 'surguja',\n",
              "       'dadra&nagarhaveli', 'daman', 'centraldelhi', 'eastdelhi',\n",
              "       'northdelhi', 'northeastdelhi', 'northwestdelhi', 'southdelhi',\n",
              "       'southwestdelhi', 'westdelhi', 'northgoa', 'southgoa', 'ahmedabad',\n",
              "       'amreli', 'anand', 'banaskantha', 'bharuch', 'bhavnagar', 'dahod',\n",
              "       'gandhinagar', 'jamnagar', 'junagadh', 'kachchh', 'kheda',\n",
              "       'mahesana', 'narmada', 'navsari', 'panchmahals', 'patan',\n",
              "       'porbandar', 'rajkot', 'sabarkantha', 'surat', 'surendranagar',\n",
              "       'thedangs', 'vadodara', 'valsad', 'ambala', 'bhiwani', 'faridabad',\n",
              "       'fatehabad', 'gurgaon', 'hisar', 'jhajjar', 'jind', 'kaithal',\n",
              "       'karnal', 'kurukshetra', 'mahendragarh', 'panchkula', 'panipat',\n",
              "       'rewari', 'rohtak', 'sirsa', 'sonipat', 'yamunanagar', 'hamirpur',\n",
              "       'kangra', 'kinnaur', 'kullu', 'mandi', 'shimla', 'sirmaur',\n",
              "       'solan', 'una', 'kathua', 'bokaro', 'chatra', 'deoghar', 'dhanbad',\n",
              "       'dumka', 'eastsinghbhum', 'garhwa', 'giridh', 'godda', 'gumla',\n",
              "       'hazaribag', 'jamtara', 'koderma', 'latehar', 'lohardaga', 'pakur',\n",
              "       'palamau', 'ramgarh', 'ranchi', 'sahibganj', 'seraikela-kharsawan',\n",
              "       'simdega', 'westsinghbhum', 'bagalkot', 'bangalore',\n",
              "       'bangalorerural', 'belgaum', 'bellary', 'bidar', 'chamrajnagar',\n",
              "       'chickmagalur', 'chikkaballapur', 'chitradurga', 'dakshinakannada',\n",
              "       'davangere', 'dharwad', 'gadag', 'gulbarga', 'hassan', 'haveri',\n",
              "       'kodagu', 'kolar', 'koppal', 'mandya', 'mysore', 'raichur',\n",
              "       'ramanagar', 'shimoga', 'tumkur', 'udupi', 'uttarakannada',\n",
              "       'yadgir', 'alappuzha', 'ernakulam', 'idukki', 'kannur', 'kasargod',\n",
              "       'kollam', 'kottayam', 'kozhikode', 'malappuram', 'palakkad',\n",
              "       'pathanamthitta', 'thiruvananthapuram', 'thrissur', 'wayanad',\n",
              "       'alirajpur', 'anuppur', 'ashoknagar', 'balaghat', 'barwani',\n",
              "       'betul', 'bhind', 'bhopal', 'burhanpur', 'chhatarpur',\n",
              "       'chhindwara', 'damoh', 'datia', 'dewas', 'dhar', 'dindori',\n",
              "       'eastnimar', 'guna', 'gwalior', 'harda', 'hoshangabad', 'indore',\n",
              "       'jabalpur', 'jhabua', 'katni', 'mandla', 'mandsaur', 'morena',\n",
              "       'narsinghpur', 'neemuch', 'panna', 'raisen', 'rajgarh', 'ratlam',\n",
              "       'rewa', 'sagar', 'satna', 'sehore', 'seoni', 'shahdol', 'shajapur',\n",
              "       'sheopur', 'shivpuri', 'sidhi', 'tikamgarh', 'ujjain', 'umaria',\n",
              "       'vidisha', 'westnimar', 'ahmednagar', 'akola', 'amravati', 'beed',\n",
              "       'bhandara', 'buldhana', 'chandrapur', 'dhule', 'gadchiroli',\n",
              "       'gondia', 'hingoli', 'jalgaon', 'jalna', 'kolhapur', 'latur',\n",
              "       'mumbai', 'nagpur', 'nanded', 'nandurbar', 'nashik', 'osmanabad',\n",
              "       'parbhani', 'pune', 'ratnagiri', 'sangli', 'satara', 'sindhudurg',\n",
              "       'solapur', 'thane', 'wardha', 'washim', 'yavatmal', 'imphaleast',\n",
              "       'imphalwest', 'senapati', 'eastkhasihills', 'jaintiahills',\n",
              "       'ribhoi', 'westkhasihills', 'aizawl', 'champhai', 'kolasib',\n",
              "       'lunglei', 'serchhip', 'dimapur', 'kohima', 'angul', 'balangir',\n",
              "       'baleswar', 'bargarh', 'bhadrak', 'boudh', 'cuttack', 'debagarh',\n",
              "       'dhenkanal', 'gajapati', 'ganjam', 'jagatsinghapur', 'jajapur',\n",
              "       'jharsuguda', 'kalahandi', 'kandhamal', 'kendrapara', 'kendujhar',\n",
              "       'khorda', 'koraput', 'malkangiri', 'mayurbhanj', 'nabarangapur',\n",
              "       'nayagarh', 'nuapada', 'puri', 'rayagada', 'sambalpur', 'sonapur',\n",
              "       'sundergarh', 'karaikal', 'pondicherry', 'amritsar', 'barnala',\n",
              "       'bathinda', 'faridkot', 'fatehgarhsahib', 'firozpur', 'gurdaspur',\n",
              "       'hoshiarpur', 'jalandhar', 'kapurthala', 'ludhiana', 'mansa',\n",
              "       'moga', 'mohali', 'muktsar', 'nawanshahr', 'patiala', 'ropar',\n",
              "       'rupnagar', 'sangrur', 'tarntaran', 'ajmer', 'alwar', 'banswara',\n",
              "       'baran', 'barmer', 'bharatpur', 'bhilwara', 'bikaner', 'bundi',\n",
              "       'chittorgarh', 'churu', 'dausa', 'dholpur', 'dungarpur',\n",
              "       'ganganagar', 'hanumangarh', 'jaipur', 'jaisalmer', 'jalor',\n",
              "       'jhalawar', 'jhujhunu', 'jodhpur', 'karauli', 'kota', 'nagaur',\n",
              "       'pali', 'rajsamand', 'sawaimadhopur', 'sikar', 'sirohi', 'tonk',\n",
              "       'udaipur', 'eastsikkim', 'southsikkim', 'ariyalur', 'chennai',\n",
              "       'coimbatore', 'cuddalore', 'dharmapuri', 'dindigul', 'erode',\n",
              "       'kanchipuram', 'kanyakumari', 'karur', 'krishnagiri', 'madurai',\n",
              "       'nagapattinam', 'namakkal', 'nilgiris', 'perambalur',\n",
              "       'pudukkottai', 'ramanathapuram', 'salem', 'sivaganga', 'thanjavur',\n",
              "       'theni', 'tiruchirappalli', 'tirunelveli', 'tiruvallur',\n",
              "       'tiruvannamalai', 'tiruvarur', 'tuticorin', 'vellore',\n",
              "       'villupuram', 'virudhunagar', 'adilabad', 'hyderabad',\n",
              "       'k.v.rangareddy', 'karimnagar', 'khammam', 'mahabubnagar', 'medak',\n",
              "       'nalgonda', 'nizamabad', 'warangal', 'dhalai', 'northtripura',\n",
              "       'southtripura', 'westtripura', 'agra', 'aligarh', 'allahabad',\n",
              "       'ambedkarnagar', 'auraiya', 'azamgarh', 'bagpat', 'bahraich',\n",
              "       'ballia', 'balrampur', 'banda', 'barabanki', 'bareilly', 'basti',\n",
              "       'bijnor', 'budaun', 'bulandshahr', 'chandauli', 'chitrakoot',\n",
              "       'deoria', 'etah', 'etawah', 'faizabad', 'farrukhabad', 'fatehpur',\n",
              "       'firozabad', 'gautambuddhanagar', 'ghaziabad', 'ghazipur', 'gonda',\n",
              "       'gorakhpur', 'hardoi', 'hathras', 'jalaun', 'jaunpur', 'jhansi',\n",
              "       'jyotibaphulenagar', 'kannauj', 'kanpurdehat', 'kanpurnagar',\n",
              "       'kaushambi', 'kheri', 'kushinagar', 'lalitpur', 'lucknow',\n",
              "       'maharajganj', 'mahoba', 'mainpuri', 'mathura', 'mau', 'meerut',\n",
              "       'mirzapur', 'moradabad', 'muzaffarnagar', 'pilibhit', 'pratapgarh',\n",
              "       'raebareli', 'rampur', 'saharanpur', 'santkabirnagar',\n",
              "       'santravidasnagar', 'shahjahanpur', 'shrawasti', 'siddharthnagar',\n",
              "       'sitapur', 'sonbhadra', 'sultanpur', 'unnao', 'varanasi',\n",
              "       'chamoli', 'champawat', 'dehradun', 'haridwar', 'nainital',\n",
              "       'paurigarhwal', 'pithoragarh', 'rudraprayag', 'tehrigarhwal',\n",
              "       'udhamsinghnagar', 'bankura', 'bardhaman', 'birbhum', 'coochbehar',\n",
              "       'darjiling', 'eastmidnapore', 'hooghly', 'howrah', 'jalpaiguri',\n",
              "       'kolkata', 'malda', 'medinipur', 'murshidabad', 'nadia',\n",
              "       'north24parganas', 'northdinajpur', 'puruliya', 'south24parganas',\n",
              "       'southdinajpur', 'westmidnapore', 'chamba', 'eastgarohills',\n",
              "       'lawngtlai', 'durg', 'tamenglong', 'westgarohills', 'mammit',\n",
              "       'bageshwar', 'lahul&spiti', 'singrauli'], dtype=object)"
            ]
          },
          "metadata": {},
          "execution_count": 17
        }
      ]
    },
    {
      "cell_type": "code",
      "metadata": {
        "id": "LiSEKRfi9oRS"
      },
      "source": [
        "dataset_seasonal['Districts'] = dataset_seasonal['Districts'].str.replace(\" \",\"\")\n"
      ],
      "execution_count": null,
      "outputs": []
    },
    {
      "cell_type": "code",
      "metadata": {
        "id": "Q5P5cipH9vCW"
      },
      "source": [
        "dataset_seasonal['Districts'] = dataset_seasonal['Districts'].str.lower()"
      ],
      "execution_count": null,
      "outputs": []
    },
    {
      "cell_type": "code",
      "metadata": {
        "colab": {
          "base_uri": "https://localhost:8080/"
        },
        "id": "TfAu_W7D94-B",
        "outputId": "5b88f02b-e50f-40fe-85ab-03b67c7619aa"
      },
      "source": [
        "dataset_seasonal.Districts.unique()"
      ],
      "execution_count": null,
      "outputs": [
        {
          "output_type": "execute_result",
          "data": {
            "text/plain": [
              "array(['mehboobnagar', 'rangareddy', 'chittoor', 'cuddapah',\n",
              "       'eastgodavari', 'karimnagar', 'krishna', 'mahaboobnagar',\n",
              "       'nalgonada', 'nellore', 'prakasam', 'srikakamkhammam',\n",
              "       'visakahapatnam', 'vizianagaram', 'warangal', 'westgodavari',\n",
              "       'medak', 'mehboobnagar.', 'kurnool', 'amreli', 'bharuchjunagadh',\n",
              "       'bhavnagar', 'navsari', 'surat', 'vadodara', 'valsad',\n",
              "       'surendranagar', 'fatehabad', 'hisar', 'sirsa', 'bangalore',\n",
              "       'kolar', 'bagalkot', 'belgaum', 'bijapur', 'chickmagalur',\n",
              "       'chitradurga', 'hassan', 'mandya', 'mysore', 'tumkur', 'davengere',\n",
              "       'gadag', 'haveri', 'chitradurg', 'dharwad', 'ahmednagar', 'nasik',\n",
              "       'osmanabad', 'pune', 'sangli', 'satara', 'solapur', 'akola',\n",
              "       'beed', 'buldhana', 'jalna', 'kolhapur', 'latur', 'raigarh',\n",
              "       'sindhudurg', 'ratnagiri', 'sholapur', 'bhatinda', 'ferozpur',\n",
              "       'muktsar', 'sangrur', 'ludhiana', 'ropar', 'dharampuri',\n",
              "       'coimbatore', 'dindigul', 'theni', 'dharmapuri', 'salem',\n",
              "       'tirunelveli.', 'teni', 'namakkal', 'perambadur', 'periyar',\n",
              "       'dindigulanna', 'thirichirapalli', 'arajganj', 'barabanki',\n",
              "       'basti', 'bijnaur', 'bulandshahar', 'faizabad', 'gorakhpur',\n",
              "       'hardoi', 'kabirnagar', 'kushinagar', 'meerut', 'moradabad',\n",
              "       'sitapur', 'sultanpur', 'unnao', 'deoria', 'lucknow',\n",
              "       'muzaffarnagar', 'saharanpur', 'allahabad', 'kanpur', 'patan',\n",
              "       'varanasi'], dtype=object)"
            ]
          },
          "metadata": {},
          "execution_count": 20
        }
      ]
    },
    {
      "cell_type": "code",
      "metadata": {
        "colab": {
          "base_uri": "https://localhost:8080/"
        },
        "id": "lxdFhkII-hmY",
        "outputId": "1f8ab5c4-720f-4e4d-f190-84556bf1d3af"
      },
      "source": [
        "dataset_vehicle.State.unique()"
      ],
      "execution_count": null,
      "outputs": [
        {
          "output_type": "execute_result",
          "data": {
            "text/plain": [
              "array(['ANDHRA PRADESH', 'ASSAM', 'BIHAR', 'CHANDIGARH', 'CHATTISGARH',\n",
              "       'Dadra & Nagar Haveli', 'DAMAN & DIU', 'DELHI', 'GOA', 'GUJARAT',\n",
              "       'HARYANA', 'HIMACHAL PRADESH', 'JAMMU & KASHMIR', 'JHARKHAND',\n",
              "       'KARNATAKA', 'KERALA', 'MADHYA PRADESH', 'MAHARASHTRA', 'MANIPUR',\n",
              "       'MEGHALAYA', 'MIZORAM', 'NAGALAND', 'ODISHA', 'PONDICHERRY',\n",
              "       'PUNJAB', 'RAJASTHAN', 'SIKKIM', 'TAMIL NADU', 'TELANGANA',\n",
              "       'TRIPURA', 'UTTAR PRADESH', 'UTTARAKHAND', 'WEST BENGAL'],\n",
              "      dtype=object)"
            ]
          },
          "metadata": {},
          "execution_count": 21
        }
      ]
    },
    {
      "cell_type": "code",
      "metadata": {
        "id": "p1E-H1vL-o__"
      },
      "source": [
        "dataset_seasonal['State'] = dataset_seasonal['State'].str.upper()"
      ],
      "execution_count": null,
      "outputs": []
    },
    {
      "cell_type": "code",
      "metadata": {
        "colab": {
          "base_uri": "https://localhost:8080/"
        },
        "id": "oj3JVYSr-5mh",
        "outputId": "e53fb407-73be-4f3c-9261-0c8638eb8820"
      },
      "source": [
        "dataset_seasonal.State.unique()"
      ],
      "execution_count": null,
      "outputs": [
        {
          "output_type": "execute_result",
          "data": {
            "text/plain": [
              "array(['ANDHRA PRADESH', 'GUJARAT', 'HARYANA', 'KARNATAKA', 'MAHARASHTRA',\n",
              "       'PUNJAB', 'TAMIL NADU', 'UTTAR PRADESH'], dtype=object)"
            ]
          },
          "metadata": {},
          "execution_count": 23
        }
      ]
    },
    {
      "cell_type": "code",
      "metadata": {
        "id": "mFhW1GtW_HO6"
      },
      "source": [
        "dataset_seasonal.to_csv (r'seasonal.csv', index = False, header=True)"
      ],
      "execution_count": null,
      "outputs": []
    },
    {
      "cell_type": "code",
      "metadata": {
        "id": "yKMYyRUDAoiF"
      },
      "source": [
        "dataset_vehicle.to_csv (r'vehicle_export.csv', index = False, header=True)"
      ],
      "execution_count": null,
      "outputs": []
    }
  ]
}